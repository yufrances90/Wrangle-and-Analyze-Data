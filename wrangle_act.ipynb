{
 "cells": [
  {
   "cell_type": "code",
   "execution_count": 1,
   "metadata": {},
   "outputs": [],
   "source": [
    "import pandas as pd\n",
    "import numpy as np\n",
    "import requests\n",
    "import tweepy\n",
    "import json\n",
    "import os\n",
    "import re\n",
    "import logging\n",
    "\n",
    "from tqdm.notebook import tqdm"
   ]
  },
  {
   "cell_type": "code",
   "execution_count": 2,
   "metadata": {},
   "outputs": [],
   "source": [
    "'''\n",
    "Logging Configuration\n",
    "'''\n",
    "\n",
    "logs_dir = \"./logs\"\n",
    "\n",
    "log_filepath = os.path.join(logs_dir, 'df_wrd_error.log')\n",
    "\n",
    "logging.basicConfig(filename=log_filepath, filemode='w', format='%(levelname)s - %(message)s')"
   ]
  },
  {
   "cell_type": "markdown",
   "metadata": {},
   "source": [
    "<a id='toc'></a>\n",
    "# Table of Contents\n",
    "---\n",
    "\n",
    "* [I. Gathering](#gathering)\n",
    "* [II. Assessing](#assessing)\n",
    "* [III. Cleaning](#cleaning)\n",
    "* [IV. Analyzing](#analyzing)\n",
    "* [III. Visualizing](#visualizing)"
   ]
  },
  {
   "cell_type": "markdown",
   "metadata": {},
   "source": [
    "<a id='gathering'></a>\n",
    "# I. Gathering Data \n",
    "---"
   ]
  },
  {
   "cell_type": "code",
   "execution_count": 3,
   "metadata": {},
   "outputs": [],
   "source": [
    "data_dir = \"./data\""
   ]
  },
  {
   "cell_type": "markdown",
   "metadata": {},
   "source": [
    "### a. WeRateDogs Twitter Archive"
   ]
  },
  {
   "cell_type": "code",
   "execution_count": 4,
   "metadata": {},
   "outputs": [],
   "source": [
    "wrd_data_filepath = 'twitter-archive-enhanced.csv'\n",
    "\n",
    "df_wrd_twitter_old = pd.read_csv(os.path.join(data_dir, wrd_data_filepath))"
   ]
  },
  {
   "cell_type": "markdown",
   "metadata": {},
   "source": [
    "### b. Tweet Image Predictions"
   ]
  },
  {
   "cell_type": "code",
   "execution_count": 5,
   "metadata": {},
   "outputs": [],
   "source": [
    "image_predictions_filepath = os.path.join(data_dir, 'image-predictions.tsv')"
   ]
  },
  {
   "cell_type": "code",
   "execution_count": 6,
   "metadata": {},
   "outputs": [
    {
     "data": {
      "text/plain": [
       "'\\nUncomment the following code to download data if file(image-predictions.tsv) does not exist\\n'"
      ]
     },
     "execution_count": 6,
     "metadata": {},
     "output_type": "execute_result"
    }
   ],
   "source": [
    "'''\n",
    "Uncomment the following code to download data if file(image-predictions.tsv) does not exist\n",
    "'''\n",
    "\n",
    "# url = 'https://d17h27t6h515a5.cloudfront.net/topher/2017/August/599fd2ad_image-predictions/image-predictions.tsv'\n",
    "\n",
    "# response = requests.get(url, allow_redirects=True)\n",
    "\n",
    "# with open(image_predictions_filepath, 'wb') as f:\n",
    "#     f.write(response.content)\n"
   ]
  },
  {
   "cell_type": "code",
   "execution_count": 7,
   "metadata": {},
   "outputs": [],
   "source": [
    "df_image_predictions_old = pd.read_csv(image_predictions_filepath, sep=\"\\t\")"
   ]
  },
  {
   "cell_type": "markdown",
   "metadata": {},
   "source": [
    "### c. Any Additional Data"
   ]
  },
  {
   "cell_type": "markdown",
   "metadata": {},
   "source": [
    "**Via Twitter API**"
   ]
  },
  {
   "cell_type": "code",
   "execution_count": 8,
   "metadata": {},
   "outputs": [],
   "source": [
    "json_filepath = os.path.join(data_dir, \"tweet_json.txt\")"
   ]
  },
  {
   "cell_type": "code",
   "execution_count": 9,
   "metadata": {},
   "outputs": [
    {
     "data": {
      "text/plain": [
       "'\\nUncomment the following code to download data if file(tweet_json.txt) does not exist\\n'"
      ]
     },
     "execution_count": 9,
     "metadata": {},
     "output_type": "execute_result"
    }
   ],
   "source": [
    "'''\n",
    "Uncomment the following code to download data if file(tweet_json.txt) does not exist\n",
    "'''\n",
    "\n",
    "# with open('twitter-credential.json') as f:\n",
    "#     credentials = json.load(f)\n",
    "\n",
    "# auth = tweepy.OAuthHandler(credentials['consumer_key'], credentials['consumer_secret'])\n",
    "\n",
    "# auth.set_access_token(credentials['access_token'], credentials['access_token_secret'])\n",
    "\n",
    "# api = tweepy.API(auth, wait_on_rate_limit=True, wait_on_rate_limit_notify=True)\n",
    "\n",
    "# tweet_ids = df_wrd_twitter_old['tweet_id']\n",
    "\n",
    "# statuses = []\n",
    "\n",
    "# for tweet_id in tqdm(tweet_ids):\n",
    "\n",
    "#     try:\n",
    "\n",
    "#         status = api.get_status(tweet_id, tweet_mode='extended')\n",
    "\n",
    "#         statuses.append(status._json)\n",
    "\n",
    "#     except:\n",
    "\n",
    "#         continue\n",
    "\n",
    "# with open(json_filepath, 'w') as outfile:\n",
    "#     for status in statuses:\n",
    "#         json.dump(status, outfile)\n",
    "#         outfile.write(\"\\n\")"
   ]
  },
  {
   "cell_type": "code",
   "execution_count": 10,
   "metadata": {},
   "outputs": [],
   "source": [
    "df_tweet_json_old = pd.read_json(json_filepath, lines=True)"
   ]
  },
  {
   "cell_type": "markdown",
   "metadata": {},
   "source": [
    "**Via Kaggle** [For all available dog breeds]\n",
    "\n",
    "Reference: \n",
    "    [https://www.kaggle.com/c/dog-breed-identification/data](https://www.kaggle.com/c/dog-breed-identification/data)"
   ]
  },
  {
   "cell_type": "code",
   "execution_count": 11,
   "metadata": {},
   "outputs": [],
   "source": [
    "df_dog_breeds_old = pd.read_csv(os.path.join(data_dir, \"labels.csv\"))"
   ]
  },
  {
   "cell_type": "markdown",
   "metadata": {},
   "source": [
    "<a id='assessing'></a>\n",
    "# II. Assessing Data\n",
    "---"
   ]
  },
  {
   "cell_type": "code",
   "execution_count": 12,
   "metadata": {},
   "outputs": [
    {
     "data": {
      "text/plain": [
       "'\\nUncomment to view data\\n'"
      ]
     },
     "execution_count": 12,
     "metadata": {},
     "output_type": "execute_result"
    }
   ],
   "source": [
    "'''\n",
    "Uncomment to view data\n",
    "'''\n",
    "\n",
    "# df_wrd_twitter_old"
   ]
  },
  {
   "cell_type": "markdown",
   "metadata": {},
   "source": [
    "> **Summary**\n",
    "> * name, doggo, floofer, pupper and puppo columns contain \"None\"\n",
    "> * name contains \"a\" as a value. May contain other nonsense name\n",
    "> * tweet information and dog information in the same table\n",
    "> * name (refers to dog name) is not very descriptive since tweet information and dog information are in the same table\n",
    "> * text (refers to status update) is not very descriptive since tweet information and dog information are in the same table"
   ]
  },
  {
   "cell_type": "code",
   "execution_count": 13,
   "metadata": {},
   "outputs": [
    {
     "data": {
      "text/plain": [
       "'\\nUncomment to view data\\n'"
      ]
     },
     "execution_count": 13,
     "metadata": {},
     "output_type": "execute_result"
    }
   ],
   "source": [
    "'''\n",
    "Uncomment to view data\n",
    "'''\n",
    "\n",
    "# df_image_predictions_old"
   ]
  },
  {
   "cell_type": "markdown",
   "metadata": {},
   "source": [
    "> **Summary**\n",
    "> * img_num, p1, p1_conf, p1_dog, etc. are not very descriptive\n",
    "> * Values of p1, p2, p3 have formatting issues. Some starts with uppercase characters, but others start with lowercase characters"
   ]
  },
  {
   "cell_type": "code",
   "execution_count": 14,
   "metadata": {},
   "outputs": [
    {
     "data": {
      "text/plain": [
       "'\\nUncomment to view data\\n'"
      ]
     },
     "execution_count": 14,
     "metadata": {},
     "output_type": "execute_result"
    }
   ],
   "source": [
    "'''\n",
    "Uncomment to view data\n",
    "'''\n",
    "\n",
    "# df_tweet_json_old"
   ]
  },
  {
   "cell_type": "markdown",
   "metadata": {},
   "source": [
    "> **Summary**\n",
    "> * For each type of id, there are two columns for it for the same piece of information except that their data types are different"
   ]
  },
  {
   "cell_type": "code",
   "execution_count": 15,
   "metadata": {},
   "outputs": [
    {
     "data": {
      "text/plain": [
       "'\\nUncomment to view data\\n'"
      ]
     },
     "execution_count": 15,
     "metadata": {},
     "output_type": "execute_result"
    }
   ],
   "source": [
    "'''\n",
    "Uncomment to view data\n",
    "'''\n",
    "\n",
    "# df_dog_breeds_old"
   ]
  },
  {
   "cell_type": "code",
   "execution_count": 16,
   "metadata": {},
   "outputs": [
    {
     "name": "stdout",
     "output_type": "stream",
     "text": [
      "<class 'pandas.core.frame.DataFrame'>\n",
      "RangeIndex: 2356 entries, 0 to 2355\n",
      "Data columns (total 17 columns):\n",
      " #   Column                      Non-Null Count  Dtype  \n",
      "---  ------                      --------------  -----  \n",
      " 0   tweet_id                    2356 non-null   int64  \n",
      " 1   in_reply_to_status_id       78 non-null     float64\n",
      " 2   in_reply_to_user_id         78 non-null     float64\n",
      " 3   timestamp                   2356 non-null   object \n",
      " 4   source                      2356 non-null   object \n",
      " 5   text                        2356 non-null   object \n",
      " 6   retweeted_status_id         181 non-null    float64\n",
      " 7   retweeted_status_user_id    181 non-null    float64\n",
      " 8   retweeted_status_timestamp  181 non-null    object \n",
      " 9   expanded_urls               2297 non-null   object \n",
      " 10  rating_numerator            2356 non-null   int64  \n",
      " 11  rating_denominator          2356 non-null   int64  \n",
      " 12  name                        2356 non-null   object \n",
      " 13  doggo                       2356 non-null   object \n",
      " 14  floofer                     2356 non-null   object \n",
      " 15  pupper                      2356 non-null   object \n",
      " 16  puppo                       2356 non-null   object \n",
      "dtypes: float64(4), int64(3), object(10)\n",
      "memory usage: 313.0+ KB\n"
     ]
    }
   ],
   "source": [
    "df_wrd_twitter_old.info()"
   ]
  },
  {
   "cell_type": "markdown",
   "metadata": {},
   "source": [
    "> **Summary**\n",
    "> * All ids(tweet_id, in_reply_to_status_id, in_reply_to_user_id, retweeted_status_id, retweeted_status_user_id)\n",
    " have numeric data type instead of string\n",
    "> * timestamp is of string type\n",
    "> * Even though some columns have null values, it is reasonable\n",
    "> * doggo, floofer, pupper and puppo can be combined into a single column\n",
    "> * Columns may be ignored: \n",
    ">   in_reply_to_status_id, in_reply_to_user_id, source, expanded_urls"
   ]
  },
  {
   "cell_type": "code",
   "execution_count": 17,
   "metadata": {},
   "outputs": [
    {
     "name": "stdout",
     "output_type": "stream",
     "text": [
      "<class 'pandas.core.frame.DataFrame'>\n",
      "RangeIndex: 2075 entries, 0 to 2074\n",
      "Data columns (total 12 columns):\n",
      " #   Column    Non-Null Count  Dtype  \n",
      "---  ------    --------------  -----  \n",
      " 0   tweet_id  2075 non-null   int64  \n",
      " 1   jpg_url   2075 non-null   object \n",
      " 2   img_num   2075 non-null   int64  \n",
      " 3   p1        2075 non-null   object \n",
      " 4   p1_conf   2075 non-null   float64\n",
      " 5   p1_dog    2075 non-null   bool   \n",
      " 6   p2        2075 non-null   object \n",
      " 7   p2_conf   2075 non-null   float64\n",
      " 8   p2_dog    2075 non-null   bool   \n",
      " 9   p3        2075 non-null   object \n",
      " 10  p3_conf   2075 non-null   float64\n",
      " 11  p3_dog    2075 non-null   bool   \n",
      "dtypes: bool(3), float64(3), int64(2), object(4)\n",
      "memory usage: 152.1+ KB\n"
     ]
    }
   ],
   "source": [
    "df_image_predictions_old.info()"
   ]
  },
  {
   "cell_type": "markdown",
   "metadata": {},
   "source": [
    "> **Summary**\n",
    "> * The data type of tweet_id is integer\n",
    "> * No missing values in this table"
   ]
  },
  {
   "cell_type": "code",
   "execution_count": 18,
   "metadata": {},
   "outputs": [
    {
     "name": "stdout",
     "output_type": "stream",
     "text": [
      "<class 'pandas.core.frame.DataFrame'>\n",
      "RangeIndex: 2331 entries, 0 to 2330\n",
      "Data columns (total 32 columns):\n",
      " #   Column                         Non-Null Count  Dtype              \n",
      "---  ------                         --------------  -----              \n",
      " 0   created_at                     2331 non-null   datetime64[ns, UTC]\n",
      " 1   id                             2331 non-null   int64              \n",
      " 2   id_str                         2331 non-null   int64              \n",
      " 3   full_text                      2331 non-null   object             \n",
      " 4   truncated                      2331 non-null   bool               \n",
      " 5   display_text_range             2331 non-null   object             \n",
      " 6   entities                       2331 non-null   object             \n",
      " 7   extended_entities              2059 non-null   object             \n",
      " 8   source                         2331 non-null   object             \n",
      " 9   in_reply_to_status_id          77 non-null     float64            \n",
      " 10  in_reply_to_status_id_str      77 non-null     float64            \n",
      " 11  in_reply_to_user_id            77 non-null     float64            \n",
      " 12  in_reply_to_user_id_str        77 non-null     float64            \n",
      " 13  in_reply_to_screen_name        77 non-null     object             \n",
      " 14  user                           2331 non-null   object             \n",
      " 15  geo                            0 non-null      float64            \n",
      " 16  coordinates                    0 non-null      float64            \n",
      " 17  place                          1 non-null      object             \n",
      " 18  contributors                   0 non-null      float64            \n",
      " 19  is_quote_status                2331 non-null   bool               \n",
      " 20  retweet_count                  2331 non-null   int64              \n",
      " 21  favorite_count                 2331 non-null   int64              \n",
      " 22  favorited                      2331 non-null   bool               \n",
      " 23  retweeted                      2331 non-null   bool               \n",
      " 24  possibly_sensitive             2196 non-null   float64            \n",
      " 25  possibly_sensitive_appealable  2196 non-null   float64            \n",
      " 26  lang                           2331 non-null   object             \n",
      " 27  retweeted_status               163 non-null    object             \n",
      " 28  quoted_status_id               26 non-null     float64            \n",
      " 29  quoted_status_id_str           26 non-null     float64            \n",
      " 30  quoted_status_permalink        26 non-null     object             \n",
      " 31  quoted_status                  24 non-null     object             \n",
      "dtypes: bool(4), datetime64[ns, UTC](1), float64(11), int64(4), object(12)\n",
      "memory usage: 519.1+ KB\n"
     ]
    }
   ],
   "source": [
    "df_tweet_json_old.info()"
   ]
  },
  {
   "cell_type": "markdown",
   "metadata": {},
   "source": [
    "> **Summary**\n",
    "> * Columns may be ignored: \n",
    ">   * created_at, truncated, in_reply_to_user_id, in_reply_to_status_id_str, in_reply_to_user_id\n",
    ">   * in_reply_to_user_id_str, in_reply_to_screen_name, is_quote_status, possibly_sensitive\n",
    ">   * possibly_sensitive_appealable, lang, quoted_status_id, quoted_status_id_str, quoted_status_permalink\n",
    ">   * quoted_status, geo, coordinates, place\n",
    "> * id is of numeric type"
   ]
  },
  {
   "cell_type": "code",
   "execution_count": 19,
   "metadata": {},
   "outputs": [
    {
     "name": "stdout",
     "output_type": "stream",
     "text": [
      "<class 'pandas.core.frame.DataFrame'>\n",
      "RangeIndex: 10222 entries, 0 to 10221\n",
      "Data columns (total 2 columns):\n",
      " #   Column  Non-Null Count  Dtype \n",
      "---  ------  --------------  ----- \n",
      " 0   id      10222 non-null  object\n",
      " 1   breed   10222 non-null  object\n",
      "dtypes: object(2)\n",
      "memory usage: 159.8+ KB\n"
     ]
    }
   ],
   "source": [
    "df_dog_breeds_old.info()"
   ]
  },
  {
   "cell_type": "markdown",
   "metadata": {},
   "source": [
    "#### ****************************** Further Investigation On Data  ******************************"
   ]
  },
  {
   "cell_type": "code",
   "execution_count": 20,
   "metadata": {},
   "outputs": [
    {
     "data": {
      "text/plain": [
       "0"
      ]
     },
     "execution_count": 20,
     "metadata": {},
     "output_type": "execute_result"
    }
   ],
   "source": [
    "df_wrd_twitter_old.duplicated(['tweet_id']).sum()"
   ]
  },
  {
   "cell_type": "code",
   "execution_count": 21,
   "metadata": {},
   "outputs": [
    {
     "data": {
      "text/plain": [
       "1399"
      ]
     },
     "execution_count": 21,
     "metadata": {},
     "output_type": "execute_result"
    }
   ],
   "source": [
    "df_wrd_twitter_old.duplicated(['name']).sum()"
   ]
  },
  {
   "cell_type": "code",
   "execution_count": 22,
   "metadata": {},
   "outputs": [
    {
     "data": {
      "text/plain": [
       "{'None': 745,\n",
       " 'a': 55,\n",
       " 'Charlie': 12,\n",
       " 'Lucy': 11,\n",
       " 'Cooper': 11,\n",
       " 'Oliver': 11,\n",
       " 'Tucker': 10,\n",
       " 'Penny': 10,\n",
       " 'Lola': 10,\n",
       " 'Bo': 9,\n",
       " 'Winston': 9,\n",
       " 'Sadie': 8,\n",
       " 'the': 8,\n",
       " 'Bailey': 7,\n",
       " 'Buddy': 7,\n",
       " 'Toby': 7,\n",
       " 'an': 7,\n",
       " 'Daisy': 7,\n",
       " 'Jax': 6,\n",
       " 'Rusty': 6,\n",
       " 'Jack': 6,\n",
       " 'Scout': 6,\n",
       " 'Oscar': 6,\n",
       " 'Dave': 6,\n",
       " 'Milo': 6,\n",
       " 'Leo': 6,\n",
       " 'Bella': 6,\n",
       " 'Stanley': 6,\n",
       " 'Koda': 6,\n",
       " 'Alfie': 5,\n",
       " 'Chester': 5,\n",
       " 'Bentley': 5,\n",
       " 'Sunny': 5,\n",
       " 'Louis': 5,\n",
       " 'Oakley': 5,\n",
       " 'Gus': 5,\n",
       " 'Finn': 5,\n",
       " 'Sammy': 5,\n",
       " 'Phil': 5,\n",
       " 'very': 5,\n",
       " 'George': 5,\n",
       " 'Larry': 5,\n",
       " 'Jerry': 4,\n",
       " 'Clarence': 4,\n",
       " 'one': 4,\n",
       " 'Bruce': 4,\n",
       " 'Duke': 4,\n",
       " 'Reginald': 4,\n",
       " 'Archie': 4,\n",
       " 'Ruby': 4,\n",
       " 'Bear': 4,\n",
       " 'Gary': 4,\n",
       " 'Luna': 4,\n",
       " 'Jeffrey': 4,\n",
       " 'Boomer': 4,\n",
       " 'just': 4,\n",
       " 'Beau': 4,\n",
       " 'Scooter': 4,\n",
       " 'Derek': 4,\n",
       " 'Maximus': 4,\n",
       " 'Gerald': 4,\n",
       " 'Loki': 4,\n",
       " 'quite': 4,\n",
       " 'Clark': 4,\n",
       " 'Dexter': 4,\n",
       " 'Maggie': 4,\n",
       " 'Moose': 4,\n",
       " 'Winnie': 4,\n",
       " 'Hank': 4,\n",
       " 'Sophie': 4,\n",
       " 'Sampson': 4,\n",
       " 'Maddie': 4,\n",
       " 'Walter': 4,\n",
       " 'Riley': 4,\n",
       " 'Reggie': 4,\n",
       " 'Cassie': 4,\n",
       " 'Shadow': 4,\n",
       " 'Chip': 4,\n",
       " 'Brody': 4,\n",
       " 'Carl': 4,\n",
       " 'Zoey': 3,\n",
       " 'Otis': 3,\n",
       " 'Rosie': 3,\n",
       " 'Arnie': 3,\n",
       " 'Waffles': 3,\n",
       " 'Ted': 3,\n",
       " 'Earl': 3,\n",
       " 'Lorenzo': 3,\n",
       " 'Gizmo': 3,\n",
       " 'Samson': 3,\n",
       " 'Calvin': 3,\n",
       " 'Louie': 3,\n",
       " 'Jimothy': 3,\n",
       " 'Peaches': 3,\n",
       " 'Nala': 3,\n",
       " 'Ellie': 3,\n",
       " 'Klevin': 3,\n",
       " 'Mia': 3,\n",
       " 'Kyle': 3,\n",
       " 'Reese': 3,\n",
       " 'Zeke': 3,\n",
       " 'Doug': 3,\n",
       " 'Colby': 3,\n",
       " 'Frankie': 3,\n",
       " 'Vincent': 3,\n",
       " 'Wyatt': 3,\n",
       " 'Sebastian': 3,\n",
       " 'Coco': 3,\n",
       " 'Wilson': 3,\n",
       " 'Rory': 3,\n",
       " 'Olive': 3,\n",
       " 'Paisley': 3,\n",
       " 'Lily': 3,\n",
       " 'Wallace': 3,\n",
       " 'Steven': 3,\n",
       " 'Malcolm': 3,\n",
       " 'Max': 3,\n",
       " 'Curtis': 2,\n",
       " 'Kevin': 2,\n",
       " 'Kenny': 2,\n",
       " 'Trooper': 2,\n",
       " 'Blitz': 2,\n",
       " 'Calbert': 2,\n",
       " 'Jeph': 2,\n",
       " 'Quinn': 2,\n",
       " 'Canela': 2,\n",
       " 'Thumas': 2,\n",
       " 'Rizzy': 2,\n",
       " 'Philbert': 2,\n",
       " 'Moreton': 2,\n",
       " 'Chipson': 2,\n",
       " 'Bell': 2,\n",
       " 'Fred': 2,\n",
       " 'Leela': 2,\n",
       " 'Dawn': 2,\n",
       " 'Penelope': 2,\n",
       " 'Maxaroni': 2,\n",
       " 'Ollie': 2,\n",
       " 'Kirby': 2,\n",
       " 'Cupcake': 2,\n",
       " 'Chompsky': 2,\n",
       " 'Ozzy': 2,\n",
       " 'Pipsy': 2,\n",
       " 'getting': 2,\n",
       " 'Elliot': 2,\n",
       " 'Kreg': 2,\n",
       " 'CeCe': 2,\n",
       " 'not': 2,\n",
       " 'Charles': 2,\n",
       " 'Ava': 2,\n",
       " 'Harold': 2,\n",
       " 'Bisquick': 2,\n",
       " 'Kreggory': 2,\n",
       " 'Terrance': 2,\n",
       " 'Raymond': 2,\n",
       " 'Shaggy': 2,\n",
       " 'Levi': 2,\n",
       " 'mad': 2,\n",
       " 'Jamesy': 2,\n",
       " 'Fizz': 2,\n",
       " 'Butter': 2,\n",
       " 'Pablo': 2,\n",
       " 'Atticus': 2,\n",
       " 'Tyr': 2,\n",
       " 'Lenny': 2,\n",
       " 'Abby': 2,\n",
       " 'Astrid': 2,\n",
       " 'Griffin': 2,\n",
       " 'Kilo': 2,\n",
       " 'Gromit': 2,\n",
       " 'Paull': 2,\n",
       " 'Olivia': 2,\n",
       " 'Tyrone': 2,\n",
       " 'Neptune': 2,\n",
       " 'Romeo': 2,\n",
       " 'Phred': 2,\n",
       " 'Ash': 2,\n",
       " 'Sugar': 2,\n",
       " 'Panda': 2,\n",
       " 'Logan': 2,\n",
       " 'Cody': 2,\n",
       " 'Coops': 2,\n",
       " 'Dash': 2,\n",
       " 'Bob': 2,\n",
       " 'Marley': 2,\n",
       " 'Franklin': 2,\n",
       " 'Opal': 2,\n",
       " 'Finley': 2,\n",
       " 'Sansa': 2,\n",
       " 'Benedict': 2,\n",
       " 'Meyer': 2,\n",
       " 'Aspen': 2,\n",
       " 'Belle': 2,\n",
       " 'Jiminy': 2,\n",
       " 'Jesse': 2,\n",
       " 'Layla': 2,\n",
       " 'Moe': 2,\n",
       " 'Bernie': 2,\n",
       " 'Gabe': 2,\n",
       " 'Luca': 2,\n",
       " 'Frank': 2,\n",
       " 'Keith': 2,\n",
       " 'Rocky': 2,\n",
       " 'Klein': 2,\n",
       " 'Watson': 2,\n",
       " 'Bubbles': 2,\n",
       " 'Bungalo': 2,\n",
       " 'Hunter': 2,\n",
       " 'Ken': 2,\n",
       " 'Timison': 2,\n",
       " 'Betty': 2,\n",
       " 'Rufus': 2,\n",
       " 'Anakin': 2,\n",
       " 'Lilly': 2,\n",
       " 'Kenneth': 2,\n",
       " 'Odie': 2,\n",
       " 'Lennon': 2,\n",
       " 'Remington': 2,\n",
       " 'Cali': 2,\n",
       " 'Lincoln': 2,\n",
       " 'Pippa': 2,\n",
       " 'Cash': 2,\n",
       " 'Chuckles': 2,\n",
       " 'Stephan': 2,\n",
       " 'Patrick': 2,\n",
       " 'Jackson': 2,\n",
       " 'Crystal': 2,\n",
       " 'Albert': 2,\n",
       " 'Linda': 2,\n",
       " 'Brad': 2,\n",
       " 'Roosevelt': 2,\n",
       " 'Baxter': 2,\n",
       " 'Django': 2,\n",
       " 'Yogi': 2,\n",
       " 'Nollie': 2,\n",
       " 'Sierra': 2,\n",
       " 'Davey': 2,\n",
       " 'Stubert': 2,\n",
       " 'Rubio': 2,\n",
       " 'Theodore': 2,\n",
       " 'Carly': 2,\n",
       " 'Chet': 2,\n",
       " 'Juno': 2,\n",
       " 'Herald': 2,\n",
       " 'Emmy': 2,\n",
       " 'Terry': 2,\n",
       " 'Alice': 2,\n",
       " 'Sam': 2,\n",
       " 'Hurley': 2,\n",
       " 'Churlie': 2,\n",
       " 'Oliviér': 2,\n",
       " 'Eli': 2,\n",
       " 'Oshie': 2,\n",
       " 'Nelly': 2,\n",
       " 'Hobbes': 2,\n",
       " 'Piper': 2,\n",
       " 'Atlas': 2,\n",
       " 'Baloo': 2,\n",
       " 'Sandy': 2,\n",
       " 'Titan': 2,\n",
       " 'Happy': 2,\n",
       " 'Jimison': 2,\n",
       " 'Mister': 2,\n",
       " 'Dakota': 2,\n",
       " 'Chelsea': 2,\n",
       " 'Lou': 2,\n",
       " 'Keurig': 2,\n",
       " 'Herm': 2,\n",
       " 'Fiona': 2,\n",
       " 'Sarge': 2,\n",
       " 'Balto': 2,\n",
       " 'Flávio': 2,\n",
       " 'Doc': 2,\n",
       " 'Gidget': 2,\n",
       " 'Mattie': 2,\n",
       " 'Wally': 2,\n",
       " 'Benji': 2,\n",
       " 'actually': 2,\n",
       " 'Hammond': 2,\n",
       " 'Rocco': 2,\n",
       " 'Kyro': 2,\n",
       " 'Phineas': 2,\n",
       " 'Percy': 2,\n",
       " 'Indie': 2,\n",
       " 'Solomon': 2,\n",
       " 'Albus': 2,\n",
       " 'Smokey': 2,\n",
       " 'Misty': 2,\n",
       " 'Pickles': 2,\n",
       " 'Herschel': 2,\n",
       " 'Seamus': 2,\n",
       " 'Axel': 2,\n",
       " 'Hercules': 2,\n",
       " 'Eve': 2,\n",
       " 'Harper': 2,\n",
       " 'Christoper': 1,\n",
       " 'Storkson': 1,\n",
       " 'Bobbay': 1,\n",
       " 'Bertson': 1,\n",
       " 'Ace': 1,\n",
       " 'Heinrich': 1,\n",
       " 'O': 1,\n",
       " 'Rodney': 1,\n",
       " 'Shooter': 1,\n",
       " 'Erik': 1,\n",
       " 'Daniel': 1,\n",
       " 'Remus': 1,\n",
       " 'Timofy': 1,\n",
       " 'Alfy': 1,\n",
       " 'Cedrick': 1,\n",
       " 'Roscoe': 1,\n",
       " 'Chuck': 1,\n",
       " 'Maxwell': 1,\n",
       " 'Yukon': 1,\n",
       " 'Clifford': 1,\n",
       " 'Anthony': 1,\n",
       " 'Milky': 1,\n",
       " 'Jessifer': 1,\n",
       " 'Dido': 1,\n",
       " 'Perry': 1,\n",
       " 'Holly': 1,\n",
       " 'unacceptable': 1,\n",
       " 'Amber': 1,\n",
       " 'Finnegus': 1,\n",
       " 'Pinot': 1,\n",
       " 'Jo': 1,\n",
       " 'Taco': 1,\n",
       " 'Maude': 1,\n",
       " 'Ralphson': 1,\n",
       " 'Clyde': 1,\n",
       " 'Kane': 1,\n",
       " 'Sid': 1,\n",
       " 'Ole': 1,\n",
       " 'this': 1,\n",
       " 'Mutt': 1,\n",
       " 'Richie': 1,\n",
       " 'Sprinkles': 1,\n",
       " 'Scruffers': 1,\n",
       " 'Ike': 1,\n",
       " 'Farfle': 1,\n",
       " 'Bloo': 1,\n",
       " 'officially': 1,\n",
       " 'my': 1,\n",
       " 'Schnozz': 1,\n",
       " 'Ferg': 1,\n",
       " 'Nico': 1,\n",
       " 'Adele': 1,\n",
       " 'Timmy': 1,\n",
       " 'Terrenth': 1,\n",
       " 'Blipson': 1,\n",
       " 'Leonard': 1,\n",
       " 'Clybe': 1,\n",
       " 'Zoe': 1,\n",
       " 'Vinnie': 1,\n",
       " 'Fiji': 1,\n",
       " 'Tuco': 1,\n",
       " 'Cecil': 1,\n",
       " 'Crimson': 1,\n",
       " 'Mairi': 1,\n",
       " 'Franq': 1,\n",
       " 'Geoff': 1,\n",
       " 'Devón': 1,\n",
       " 'Harvey': 1,\n",
       " 'Venti': 1,\n",
       " 'Brandi': 1,\n",
       " 'Banditt': 1,\n",
       " 'Lorelei': 1,\n",
       " 'Noah': 1,\n",
       " 'Tuck': 1,\n",
       " 'Billl': 1,\n",
       " 'Jett': 1,\n",
       " 'Rolf': 1,\n",
       " 'Bloop': 1,\n",
       " 'Sailer': 1,\n",
       " 'Ralphé': 1,\n",
       " 'Aldrick': 1,\n",
       " 'Dwight': 1,\n",
       " 'Ronnie': 1,\n",
       " 'Steve': 1,\n",
       " 'Lucia': 1,\n",
       " 'Tonks': 1,\n",
       " 'Beebop': 1,\n",
       " 'Swagger': 1,\n",
       " 'Koko': 1,\n",
       " 'Hall': 1,\n",
       " 'Ralphy': 1,\n",
       " 'Mike': 1,\n",
       " 'Emma': 1,\n",
       " 'Ricky': 1,\n",
       " 'Luther': 1,\n",
       " 'all': 1,\n",
       " 'Stephanus': 1,\n",
       " 'Moofasa': 1,\n",
       " 'Travis': 1,\n",
       " 'Trevith': 1,\n",
       " 'Joshwa': 1,\n",
       " 'Kona': 1,\n",
       " 'Herb': 1,\n",
       " 'Mabel': 1,\n",
       " 'Lugan': 1,\n",
       " 'Cal': 1,\n",
       " 'Lilah': 1,\n",
       " 'Lacy': 1,\n",
       " 'Cupid': 1,\n",
       " 'Stu': 1,\n",
       " 'Arlo': 1,\n",
       " 'Cora': 1,\n",
       " 'Bookstore': 1,\n",
       " 'Orion': 1,\n",
       " 'Buckley': 1,\n",
       " 'Sonny': 1,\n",
       " 'Tedrick': 1,\n",
       " 'Rinna': 1,\n",
       " 'Socks': 1,\n",
       " 'Sparky': 1,\n",
       " 'Bradley': 1,\n",
       " 'Newt': 1,\n",
       " 'Benny': 1,\n",
       " 'Cannon': 1,\n",
       " 'DonDon': 1,\n",
       " 'Jazz': 1,\n",
       " 'Henry': 1,\n",
       " 'Carll': 1,\n",
       " 'Ruffles': 1,\n",
       " 'Dotsy': 1,\n",
       " 'Thor': 1,\n",
       " 'Livvie': 1,\n",
       " 'Gilbert': 1,\n",
       " 'Champ': 1,\n",
       " 'Marty': 1,\n",
       " 'Tito': 1,\n",
       " 'Iroh': 1,\n",
       " 'Kollin': 1,\n",
       " 'Pete': 1,\n",
       " 'Rilo': 1,\n",
       " 'Taz': 1,\n",
       " 'Bode': 1,\n",
       " 'Skye': 1,\n",
       " 'Ashleigh': 1,\n",
       " 'Kirk': 1,\n",
       " 'Damon': 1,\n",
       " 'Billy': 1,\n",
       " 'Derby': 1,\n",
       " 'Butters': 1,\n",
       " 'Goliath': 1,\n",
       " 'Chaz': 1,\n",
       " 'Binky': 1,\n",
       " 'Jomathan': 1,\n",
       " 'Marq': 1,\n",
       " 'Mason': 1,\n",
       " 'Edmund': 1,\n",
       " 'Ed': 1,\n",
       " 'Miguel': 1,\n",
       " 'Fillup': 1,\n",
       " 'Winifred': 1,\n",
       " 'Dylan': 1,\n",
       " 'Eugene': 1,\n",
       " 'Mya': 1,\n",
       " 'Pluto': 1,\n",
       " 'Jazzy': 1,\n",
       " 'Hubertson': 1,\n",
       " 'Superpup': 1,\n",
       " 'Gert': 1,\n",
       " 'Bubba': 1,\n",
       " 'Sora': 1,\n",
       " 'Willy': 1,\n",
       " 'Marlee': 1,\n",
       " 'Monster': 1,\n",
       " 'Horace': 1,\n",
       " 'Grady': 1,\n",
       " 'Obie': 1,\n",
       " 'Combo': 1,\n",
       " 'such': 1,\n",
       " 'Aja': 1,\n",
       " 'Barclay': 1,\n",
       " 'Harrison': 1,\n",
       " 'Coopson': 1,\n",
       " 'Banjo': 1,\n",
       " 'Harnold': 1,\n",
       " 'Snicku': 1,\n",
       " 'Tebow': 1,\n",
       " 'Mauve': 1,\n",
       " 'Sundance': 1,\n",
       " 'BeBe': 1,\n",
       " 'Mimosa': 1,\n",
       " 'Colin': 1,\n",
       " 'Ginger': 1,\n",
       " 'Brandy': 1,\n",
       " 'Rover': 1,\n",
       " 'Kevon': 1,\n",
       " 'Jebberson': 1,\n",
       " 'Grizzwald': 1,\n",
       " 'Jed': 1,\n",
       " 'Smiley': 1,\n",
       " 'Gin': 1,\n",
       " 'Rudy': 1,\n",
       " 'infuriating': 1,\n",
       " 'Rose': 1,\n",
       " 'Remy': 1,\n",
       " 'Fletcher': 1,\n",
       " 'Evy': 1,\n",
       " 'Rey': 1,\n",
       " 'Zeus': 1,\n",
       " 'Pip': 1,\n",
       " 'Flurpson': 1,\n",
       " 'Georgie': 1,\n",
       " 'Carper': 1,\n",
       " 'Glacier': 1,\n",
       " 'Darrel': 1,\n",
       " 'incredibly': 1,\n",
       " 'Brandonald': 1,\n",
       " 'Sprout': 1,\n",
       " 'Lambeau': 1,\n",
       " 'Crouton': 1,\n",
       " 'Durg': 1,\n",
       " 'Arnold': 1,\n",
       " 'Snoopy': 1,\n",
       " 'Fwed': 1,\n",
       " 'Harry': 1,\n",
       " 'Mack': 1,\n",
       " 'Philippe': 1,\n",
       " 'Baron': 1,\n",
       " 'Ivar': 1,\n",
       " 'Bodie': 1,\n",
       " 'Rambo': 1,\n",
       " 'Jay': 1,\n",
       " 'Teddy': 1,\n",
       " 'Ozzie': 1,\n",
       " 'Olaf': 1,\n",
       " 'Jarvis': 1,\n",
       " 'Gunner': 1,\n",
       " 'Gabby': 1,\n",
       " 'Caryl': 1,\n",
       " 'Scott': 1,\n",
       " 'Bronte': 1,\n",
       " 'Jimbo': 1,\n",
       " 'Sephie': 1,\n",
       " 'Alf': 1,\n",
       " 'Lulu': 1,\n",
       " 'Jaycob': 1,\n",
       " 'Bobb': 1,\n",
       " 'Striker': 1,\n",
       " 'Tater': 1,\n",
       " 'Arlen': 1,\n",
       " 'Spencer': 1,\n",
       " 'Comet': 1,\n",
       " 'Pepper': 1,\n",
       " 'Grizz': 1,\n",
       " 'Cermet': 1,\n",
       " 'Severus': 1,\n",
       " 'Bones': 1,\n",
       " 'Walker': 1,\n",
       " 'Juckson': 1,\n",
       " 'Blakely': 1,\n",
       " 'Pippin': 1,\n",
       " 'Gustav': 1,\n",
       " 'Beemo': 1,\n",
       " 'Carter': 1,\n",
       " 'Saydee': 1,\n",
       " 'Willie': 1,\n",
       " 'Humphrey': 1,\n",
       " 'Izzy': 1,\n",
       " 'Karl': 1,\n",
       " 'Stella': 1,\n",
       " 'Dale': 1,\n",
       " 'Julius': 1,\n",
       " 'Michelangelope': 1,\n",
       " 'Ebby': 1,\n",
       " 'Reagan': 1,\n",
       " 'Tango': 1,\n",
       " 'Puff': 1,\n",
       " 'Eriq': 1,\n",
       " 'Pubert': 1,\n",
       " 'Tess': 1,\n",
       " 'Rorie': 1,\n",
       " 'Pavlov': 1,\n",
       " 'Acro': 1,\n",
       " 'Alexanderson': 1,\n",
       " 'Raphael': 1,\n",
       " 'Huxley': 1,\n",
       " 'Ben': 1,\n",
       " 'Berkeley': 1,\n",
       " 'Kial': 1,\n",
       " 'Chef': 1,\n",
       " 'Furzey': 1,\n",
       " 'Jeremy': 1,\n",
       " 'Rufio': 1,\n",
       " 'Claude': 1,\n",
       " 'Robin': 1,\n",
       " 'Fynn': 1,\n",
       " 'Mookie': 1,\n",
       " 'Gustaf': 1,\n",
       " 'Mollie': 1,\n",
       " 'Brownie': 1,\n",
       " 'Rumble': 1,\n",
       " 'Rupert': 1,\n",
       " 'Wafer': 1,\n",
       " 'Lizzie': 1,\n",
       " 'Geno': 1,\n",
       " 'Alejandro': 1,\n",
       " 'Jordy': 1,\n",
       " 'Ziva': 1,\n",
       " 'Angel': 1,\n",
       " 'Laela': 1,\n",
       " 'Snoop': 1,\n",
       " 'Covach': 1,\n",
       " 'Goose': 1,\n",
       " 'Lilli': 1,\n",
       " 'Trigger': 1,\n",
       " 'Chesterson': 1,\n",
       " 'Emmie': 1,\n",
       " 'Dunkin': 1,\n",
       " 'Dook': 1,\n",
       " 'old': 1,\n",
       " 'Linus': 1,\n",
       " 'River': 1,\n",
       " 'Ridley': 1,\n",
       " 'Tyrus': 1,\n",
       " 'Darla': 1,\n",
       " 'Kara': 1,\n",
       " 'Coleman': 1,\n",
       " 'Halo': 1,\n",
       " 'Mac': 1,\n",
       " 'Hamrick': 1,\n",
       " 'Kellogg': 1,\n",
       " 'Brian': 1,\n",
       " 'Kaiya': 1,\n",
       " 'Hazel': 1,\n",
       " 'Shakespeare': 1,\n",
       " 'Jaspers': 1,\n",
       " 'William': 1,\n",
       " 'Tom': 1,\n",
       " 'Torque': 1,\n",
       " 'Jarod': 1,\n",
       " 'Skittle': 1,\n",
       " 'Marvin': 1,\n",
       " 'Hero': 1,\n",
       " 'Tayzie': 1,\n",
       " 'Ralphus': 1,\n",
       " 'Ralph': 1,\n",
       " 'Willem': 1,\n",
       " 'Strider': 1,\n",
       " 'Lipton': 1,\n",
       " 'Brockly': 1,\n",
       " 'Andru': 1,\n",
       " 'Mojo': 1,\n",
       " 'life': 1,\n",
       " 'JD': 1,\n",
       " 'Hanz': 1,\n",
       " 'Jessiga': 1,\n",
       " 'Miley': 1,\n",
       " 'light': 1,\n",
       " 'Yoda': 1,\n",
       " 'Bobble': 1,\n",
       " 'Aiden': 1,\n",
       " 'DayZ': 1,\n",
       " 'Kendall': 1,\n",
       " 'Pumpkin': 1,\n",
       " 'Timber': 1,\n",
       " 'Oddie': 1,\n",
       " 'Dobby': 1,\n",
       " 'Akumi': 1,\n",
       " 'Edgar': 1,\n",
       " 'Tug': 1,\n",
       " 'Eleanor': 1,\n",
       " 'Brudge': 1,\n",
       " 'Dot': 1,\n",
       " 'Antony': 1,\n",
       " 'Sage': 1,\n",
       " 'Meera': 1,\n",
       " 'Clarq': 1,\n",
       " 'Gòrdón': 1,\n",
       " 'Bert': 1,\n",
       " 'Traviss': 1,\n",
       " 'Vince': 1,\n",
       " 'Tove': 1,\n",
       " 'Malikai': 1,\n",
       " 'Rumpole': 1,\n",
       " 'Dug': 1,\n",
       " 'Bauer': 1,\n",
       " 'Tassy': 1,\n",
       " 'Ulysses': 1,\n",
       " 'Jersey': 1,\n",
       " 'Dante': 1,\n",
       " 'Glenn': 1,\n",
       " 'Longfellow': 1,\n",
       " 'Dietrich': 1,\n",
       " 'Ito': 1,\n",
       " 'Cuddles': 1,\n",
       " 'Tessa': 1,\n",
       " 'Aqua': 1,\n",
       " 'Filup': 1,\n",
       " 'Millie': 1,\n",
       " 'Kenzie': 1,\n",
       " 'Maks': 1,\n",
       " 'Ambrose': 1,\n",
       " 'Grizzie': 1,\n",
       " 'Asher': 1,\n",
       " 'Kallie': 1,\n",
       " 'Cleopatricia': 1,\n",
       " 'Joey': 1,\n",
       " 'Dixie': 1,\n",
       " 'Schnitzel': 1,\n",
       " 'Tobi': 1,\n",
       " 'Ester': 1,\n",
       " 'Lenox': 1,\n",
       " 'Harlso': 1,\n",
       " 'Spark': 1,\n",
       " 'Amy': 1,\n",
       " 'by': 1,\n",
       " 'Divine': 1,\n",
       " 'Tino': 1,\n",
       " 'Leonidas': 1,\n",
       " 'Chesney': 1,\n",
       " 'Cheesy': 1,\n",
       " 'Chloe': 1,\n",
       " 'Blue': 1,\n",
       " 'Bonaparte': 1,\n",
       " 'Kathmandu': 1,\n",
       " 'Mona': 1,\n",
       " 'Jeffrie': 1,\n",
       " 'Jerome': 1,\n",
       " 'Tycho': 1,\n",
       " 'Jeffri': 1,\n",
       " 'Iggy': 1,\n",
       " 'Cilantro': 1,\n",
       " 'Mo': 1,\n",
       " 'Rizzo': 1,\n",
       " 'Keet': 1,\n",
       " 'Eevee': 1,\n",
       " 'Boots': 1,\n",
       " 'Petrick': 1,\n",
       " 'Dallas': 1,\n",
       " 'Bowie': 1,\n",
       " 'Sunshine': 1,\n",
       " 'Andy': 1,\n",
       " 'Jareld': 1,\n",
       " 'Monkey': 1,\n",
       " 'Beckham': 1,\n",
       " 'Margo': 1,\n",
       " 'Autumn': 1,\n",
       " 'Brutus': 1,\n",
       " 'Kody': 1,\n",
       " 'Mosby': 1,\n",
       " 'Edd': 1,\n",
       " 'Shadoe': 1,\n",
       " 'Birf': 1,\n",
       " 'Buddah': 1,\n",
       " 'Ronduh': 1,\n",
       " 'Kayla': 1,\n",
       " 'Bilbo': 1,\n",
       " 'Zuzu': 1,\n",
       " 'Todo': 1,\n",
       " 'Berb': 1,\n",
       " 'Sweet': 1,\n",
       " 'Grey': 1,\n",
       " 'Howie': 1,\n",
       " 'Stormy': 1,\n",
       " 'Mary': 1,\n",
       " 'Pherb': 1,\n",
       " 'Zooey': 1,\n",
       " 'Mitch': 1,\n",
       " 'Maya': 1,\n",
       " 'Dutch': 1,\n",
       " 'Randall': 1,\n",
       " 'Nimbus': 1,\n",
       " 'Kingsley': 1,\n",
       " 'Lucky': 1,\n",
       " 'Freddery': 1,\n",
       " 'Bluebert': 1,\n",
       " 'Ember': 1,\n",
       " 'Simba': 1,\n",
       " 'Nida': 1,\n",
       " 'Chase': 1,\n",
       " 'Link': 1,\n",
       " 'Dex': 1,\n",
       " 'Napolean': 1,\n",
       " 'General': 1,\n",
       " 'Kulet': 1,\n",
       " 'Ralpher': 1,\n",
       " 'Wiggles': 1,\n",
       " 'Sweets': 1,\n",
       " 'Sandra': 1,\n",
       " 'Wesley': 1,\n",
       " 'Lassie': 1,\n",
       " 'Lili': 1,\n",
       " 'Mingus': 1,\n",
       " 'Rontu': 1,\n",
       " 'Godi': 1,\n",
       " 'Clarkus': 1,\n",
       " 'Spanky': 1,\n",
       " 'Pupcasso': 1,\n",
       " 'Huck': 1,\n",
       " 'Emanuel': 1,\n",
       " 'Pilot': 1,\n",
       " 'Bayley': 1,\n",
       " 'Jockson': 1,\n",
       " 'Duddles': 1,\n",
       " 'Liam': 1,\n",
       " 'Einstein': 1,\n",
       " 'Sojourner': 1,\n",
       " 'Maisey': 1,\n",
       " 'Ralphie': 1,\n",
       " 'Shawwn': 1,\n",
       " 'Naphaniel': 1,\n",
       " 'Monty': 1,\n",
       " 'Lillie': 1,\n",
       " 'Jackie': 1,\n",
       " 'Deacon': 1,\n",
       " 'Rueben': 1,\n",
       " 'Kanu': 1,\n",
       " 'Tanner': 1,\n",
       " 'Murphy': 1,\n",
       " 'Kota': 1,\n",
       " 'Corey': 1,\n",
       " 'Frönq': 1,\n",
       " 'Hermione': 1,\n",
       " 'Craig': 1,\n",
       " 'Charleson': 1,\n",
       " 'Cheryl': 1,\n",
       " 'Dudley': 1,\n",
       " 'Mark': 1,\n",
       " 'Bruno': 1,\n",
       " 'Brady': 1,\n",
       " 'Hector': 1,\n",
       " 'Tiger': 1,\n",
       " 'Lance': 1,\n",
       " 'Laika': 1,\n",
       " 'Chubbs': 1,\n",
       " 'Tripp': 1,\n",
       " 'Lolo': 1,\n",
       " 'Creg': 1,\n",
       " 'Toffee': 1,\n",
       " 'Major': 1,\n",
       " 'Kloey': 1,\n",
       " 'Snickers': 1,\n",
       " 'Duchess': 1,\n",
       " 'Brat': 1,\n",
       " 'Griswold': 1,\n",
       " 'Tupawc': 1,\n",
       " 'Theo': 1,\n",
       " 'Katie': 1,\n",
       " 'Rhino': 1,\n",
       " 'Chadrick': 1,\n",
       " 'Tilly': 1,\n",
       " 'Samsom': 1,\n",
       " 'Enchilada': 1,\n",
       " 'Carbon': 1,\n",
       " 'Stewie': 1,\n",
       " 'Patch': 1,\n",
       " 'Florence': 1,\n",
       " 'Bobby': 1,\n",
       " 'Jiminus': 1,\n",
       " 'Norman': 1,\n",
       " 'Josep': 1,\n",
       " 'Jangle': 1,\n",
       " 'Stefan': 1,\n",
       " 'Pawnd': 1,\n",
       " 'Boston': 1,\n",
       " 'Amélie': 1,\n",
       " 'Rodman': 1,\n",
       " 'Batdog': 1,\n",
       " 'Anna': 1,\n",
       " 'Zeek': 1,\n",
       " 'Meatball': 1,\n",
       " 'Ralf': 1,\n",
       " 'Godzilla': 1,\n",
       " 'Barney': 1,\n",
       " 'Shnuggles': 1,\n",
       " 'Vinscent': 1,\n",
       " 'Chuq': 1,\n",
       " 'Gerbald': 1,\n",
       " 'Karma': 1,\n",
       " 'Jeb': 1,\n",
       " 'his': 1,\n",
       " 'Donny': 1,\n",
       " 'Rascal': 1,\n",
       " 'Zara': 1,\n",
       " 'Oreo': 1,\n",
       " 'Sky': 1,\n",
       " 'Gordon': 1,\n",
       " 'Kramer': 1,\n",
       " 'Doobert': 1,\n",
       " 'Shelby': 1,\n",
       " 'Shikha': 1,\n",
       " 'Molly': 1,\n",
       " 'Darby': 1,\n",
       " 'Brooks': 1,\n",
       " 'Pancake': 1,\n",
       " 'Sailor': 1,\n",
       " 'Danny': 1,\n",
       " 'Bradlay': 1,\n",
       " 'Kobe': 1,\n",
       " 'Callie': 1,\n",
       " 'Sully': 1,\n",
       " 'Crumpet': 1,\n",
       " 'Tedders': 1,\n",
       " 'Skittles': 1,\n",
       " 'Wishes': 1,\n",
       " 'Trip': 1,\n",
       " 'Kawhi': 1,\n",
       " 'Sobe': 1,\n",
       " 'Bruiser': 1,\n",
       " 'Odin': 1,\n",
       " 'Opie': 1,\n",
       " 'Peanut': 1,\n",
       " 'Siba': 1,\n",
       " 'Noosh': 1,\n",
       " 'Obi': 1,\n",
       " 'Tommy': 1,\n",
       " 'Biden': 1,\n",
       " 'Reptar': 1,\n",
       " 'space': 1,\n",
       " 'Alexander': 1,\n",
       " 'Kaia': 1,\n",
       " 'Chevy': 1,\n",
       " 'Jameson': 1,\n",
       " 'Fido': 1,\n",
       " 'Julio': 1,\n",
       " 'Stark': 1,\n",
       " 'Blanket': 1,\n",
       " 'Fabio': 1,\n",
       " 'Nigel': 1,\n",
       " 'Arya': 1,\n",
       " 'Staniel': 1,\n",
       " 'Stuart': 1,\n",
       " 'Burt': 1,\n",
       " 'Jim': 1,\n",
       " 'Willow': 1,\n",
       " 'Vixen': 1,\n",
       " 'Crawford': 1,\n",
       " 'Diogi': 1,\n",
       " 'Ron': 1,\n",
       " 'Lupe': 1,\n",
       " 'Al': 1,\n",
       " 'Karll': 1,\n",
       " 'Eazy': 1,\n",
       " 'Rooney': 1,\n",
       " 'Augie': 1,\n",
       " 'Barry': 1,\n",
       " 'Jonah': 1,\n",
       " 'Blu': 1,\n",
       " 'Poppy': 1,\n",
       " 'Beya': 1,\n",
       " 'Flash': 1,\n",
       " 'Loomis': 1,\n",
       " 'Kuyu': 1,\n",
       " 'Aubie': 1,\n",
       " 'Strudel': 1,\n",
       " 'Genevieve': 1,\n",
       " 'Charl': 1,\n",
       " 'Shiloh': 1,\n",
       " 'Dewey': 1,\n",
       " 'Jennifur': 1,\n",
       " 'Apollo': 1,\n",
       " 'Nugget': 1,\n",
       " 'Suki': 1}"
      ]
     },
     "execution_count": 22,
     "metadata": {},
     "output_type": "execute_result"
    }
   ],
   "source": [
    "df_wrd_twitter_old['name'].value_counts().to_dict()"
   ]
  },
  {
   "cell_type": "markdown",
   "metadata": {},
   "source": [
    "> **Summary**\n",
    "> * Have invalid names other than 'None', eg: a, an, the, one. All starts with lowercase characters.\n",
    "> * Name column has duplicated entries"
   ]
  },
  {
   "cell_type": "code",
   "execution_count": 23,
   "metadata": {},
   "outputs": [
    {
     "name": "stdout",
     "output_type": "stream",
     "text": [
      "Number of true positive ratings:  2333\n",
      "Number of wrong ratings:  7\n",
      "Please check for logs for wrong ratings\n"
     ]
    }
   ],
   "source": [
    "p = re.compile('[0-9]+/10')\n",
    "p_invalid = re.compile('[0-9]+/[0-9]+/[0-9]+')\n",
    "\n",
    "bad_count = 0\n",
    "none_count = 0\n",
    "good_count = 0\n",
    "\n",
    "\n",
    "for text, denominator, numerator in zip(df_wrd_twitter_old['text'].values, df_wrd_twitter_old['rating_denominator'].values, df_wrd_twitter_old['rating_numerator'].values):\n",
    "    result = p.search(text)\n",
    "    if result is not None and denominator != 10: # when denominators and numerators are wrong\n",
    "        message = \"{} {} {} ************************ {}\".format(result.group(), numerator, denominator, text)\n",
    "        logging.error(message)\n",
    "        logging.error(\"\\n\")\n",
    "        bad_count += 1\n",
    "    elif result is None and p_invalid.search(text) == None:\n",
    "#         print(numerator, denominator, \"~~~~~~~~~~~~~~~~~~~~~~~\", text)\n",
    "#         print()\n",
    "        none_count += 1\n",
    "    elif result is not None and denominator == 10:\n",
    "        good_count += 1\n",
    "    elif p_invalid.search(text) != None: # when parsing date as ratings\n",
    "        message = \"{} {} ************************ {}\".format(numerator, denominator, text)\n",
    "        logging.error(message)\n",
    "        logging.error(\"\\n\")\n",
    "\n",
    "\n",
    "print(\"Number of true positive ratings: \", good_count)\n",
    "print(\"Number of wrong ratings: \", bad_count)\n",
    "print(\"Please check for logs for wrong ratings\")\n"
   ]
  },
  {
   "cell_type": "code",
   "execution_count": 24,
   "metadata": {},
   "outputs": [
    {
     "data": {
      "text/html": [
       "<div>\n",
       "<style scoped>\n",
       "    .dataframe tbody tr th:only-of-type {\n",
       "        vertical-align: middle;\n",
       "    }\n",
       "\n",
       "    .dataframe tbody tr th {\n",
       "        vertical-align: top;\n",
       "    }\n",
       "\n",
       "    .dataframe thead th {\n",
       "        text-align: right;\n",
       "    }\n",
       "</style>\n",
       "<table border=\"1\" class=\"dataframe\">\n",
       "  <thead>\n",
       "    <tr style=\"text-align: right;\">\n",
       "      <th></th>\n",
       "      <th>text</th>\n",
       "      <th>rating_denominator</th>\n",
       "      <th>rating_numerator</th>\n",
       "    </tr>\n",
       "  </thead>\n",
       "  <tbody>\n",
       "    <tr>\n",
       "      <th>313</th>\n",
       "      <td>@jonnysun @Lin_Manuel ok jomny I know you're e...</td>\n",
       "      <td>0</td>\n",
       "      <td>960</td>\n",
       "    </tr>\n",
       "    <tr>\n",
       "      <th>784</th>\n",
       "      <td>RT @dog_rates: After so many requests, this is...</td>\n",
       "      <td>11</td>\n",
       "      <td>9</td>\n",
       "    </tr>\n",
       "    <tr>\n",
       "      <th>1068</th>\n",
       "      <td>After so many requests, this is Bretagne. She ...</td>\n",
       "      <td>11</td>\n",
       "      <td>9</td>\n",
       "    </tr>\n",
       "    <tr>\n",
       "      <th>1165</th>\n",
       "      <td>Happy 4/20 from the squad! 13/10 for all https...</td>\n",
       "      <td>20</td>\n",
       "      <td>4</td>\n",
       "    </tr>\n",
       "    <tr>\n",
       "      <th>1202</th>\n",
       "      <td>This is Bluebert. He just saw that both #Final...</td>\n",
       "      <td>50</td>\n",
       "      <td>50</td>\n",
       "    </tr>\n",
       "    <tr>\n",
       "      <th>1662</th>\n",
       "      <td>This is Darrel. He just robbed a 7/11 and is i...</td>\n",
       "      <td>11</td>\n",
       "      <td>7</td>\n",
       "    </tr>\n",
       "    <tr>\n",
       "      <th>2335</th>\n",
       "      <td>This is an Albanian 3 1/2 legged  Episcopalian...</td>\n",
       "      <td>2</td>\n",
       "      <td>1</td>\n",
       "    </tr>\n",
       "  </tbody>\n",
       "</table>\n",
       "</div>"
      ],
      "text/plain": [
       "                                                   text  rating_denominator  \\\n",
       "313   @jonnysun @Lin_Manuel ok jomny I know you're e...                   0   \n",
       "784   RT @dog_rates: After so many requests, this is...                  11   \n",
       "1068  After so many requests, this is Bretagne. She ...                  11   \n",
       "1165  Happy 4/20 from the squad! 13/10 for all https...                  20   \n",
       "1202  This is Bluebert. He just saw that both #Final...                  50   \n",
       "1662  This is Darrel. He just robbed a 7/11 and is i...                  11   \n",
       "2335  This is an Albanian 3 1/2 legged  Episcopalian...                   2   \n",
       "\n",
       "      rating_numerator  \n",
       "313                960  \n",
       "784                  9  \n",
       "1068                 9  \n",
       "1165                 4  \n",
       "1202                50  \n",
       "1662                 7  \n",
       "2335                 1  "
      ]
     },
     "execution_count": 24,
     "metadata": {},
     "output_type": "execute_result"
    }
   ],
   "source": [
    "text_to_remove = []\n",
    "\n",
    "for text, denominator, numerator in zip(\n",
    "    df_wrd_twitter_old['text'].values, \n",
    "    df_wrd_twitter_old['rating_denominator'].values, \n",
    "    df_wrd_twitter_old['rating_numerator'].values):\n",
    "    \n",
    "    result = p.search(text)\n",
    "    \n",
    "    if result is not None and denominator != 10:\n",
    "        text_to_remove.append(text)\n",
    "        \n",
    "df_wrd_twitter_old[df_wrd_twitter_old.text.isin(text_to_remove)][\n",
    "    ['text', 'rating_denominator', 'rating_numerator']]"
   ]
  },
  {
   "cell_type": "markdown",
   "metadata": {},
   "source": [
    "> **Summary**\n",
    "> * There are 7 rows in df_wrd_twitter_old with wrong denominators and numerators\n",
    "> * There is 2 rows parsing time as ratings: 1) 24/7 2) 11/15/15"
   ]
  },
  {
   "cell_type": "code",
   "execution_count": 25,
   "metadata": {},
   "outputs": [
    {
     "data": {
      "text/plain": [
       "tweet_id                         0\n",
       "in_reply_to_status_id         2278\n",
       "in_reply_to_user_id           2278\n",
       "timestamp                        0\n",
       "source                           0\n",
       "text                             0\n",
       "retweeted_status_id           2175\n",
       "retweeted_status_user_id      2175\n",
       "retweeted_status_timestamp    2175\n",
       "expanded_urls                   59\n",
       "rating_numerator                 0\n",
       "rating_denominator               0\n",
       "name                             0\n",
       "doggo                            0\n",
       "floofer                          0\n",
       "pupper                           0\n",
       "puppo                            0\n",
       "dtype: int64"
      ]
     },
     "execution_count": 25,
     "metadata": {},
     "output_type": "execute_result"
    }
   ],
   "source": [
    "df_wrd_twitter_old.isnull().sum()"
   ]
  },
  {
   "cell_type": "code",
   "execution_count": 26,
   "metadata": {},
   "outputs": [
    {
     "data": {
      "text/plain": [
       "array([ 10,   0,  15,  70,   7,  11, 150, 170,  20,  50,  90,  80,  40,\n",
       "       130, 110,  16, 120,   2])"
      ]
     },
     "execution_count": 26,
     "metadata": {},
     "output_type": "execute_result"
    }
   ],
   "source": [
    "df_wrd_twitter_old['rating_denominator'].unique()"
   ]
  },
  {
   "cell_type": "code",
   "execution_count": 27,
   "metadata": {},
   "outputs": [
    {
     "data": {
      "text/plain": [
       "0"
      ]
     },
     "execution_count": 27,
     "metadata": {},
     "output_type": "execute_result"
    }
   ],
   "source": [
    "df_image_predictions_old.duplicated().sum()"
   ]
  },
  {
   "cell_type": "code",
   "execution_count": 28,
   "metadata": {},
   "outputs": [
    {
     "data": {
      "text/plain": [
       "tweet_id    0\n",
       "jpg_url     0\n",
       "img_num     0\n",
       "p1          0\n",
       "p1_conf     0\n",
       "p1_dog      0\n",
       "p2          0\n",
       "p2_conf     0\n",
       "p2_dog      0\n",
       "p3          0\n",
       "p3_conf     0\n",
       "p3_dog      0\n",
       "dtype: int64"
      ]
     },
     "execution_count": 28,
     "metadata": {},
     "output_type": "execute_result"
    }
   ],
   "source": [
    "df_image_predictions_old.isnull().sum()"
   ]
  },
  {
   "cell_type": "code",
   "execution_count": 29,
   "metadata": {},
   "outputs": [
    {
     "data": {
      "text/plain": [
       "\"\\nHave TypeError after executing the above statement\\n- TypeError: unhashable type: 'list'\\n\""
      ]
     },
     "execution_count": 29,
     "metadata": {},
     "output_type": "execute_result"
    }
   ],
   "source": [
    "# df_tweet_json_old.duplicated().sum()\n",
    "\n",
    "'''\n",
    "Have TypeError after executing the above statement\n",
    "- TypeError: unhashable type: 'list'\n",
    "'''"
   ]
  },
  {
   "cell_type": "code",
   "execution_count": 30,
   "metadata": {},
   "outputs": [
    {
     "data": {
      "text/plain": [
       "created_at                          0\n",
       "id                                  0\n",
       "id_str                              0\n",
       "full_text                           0\n",
       "truncated                           0\n",
       "display_text_range                  0\n",
       "entities                            0\n",
       "extended_entities                 272\n",
       "source                              0\n",
       "in_reply_to_status_id            2254\n",
       "in_reply_to_status_id_str        2254\n",
       "in_reply_to_user_id              2254\n",
       "in_reply_to_user_id_str          2254\n",
       "in_reply_to_screen_name          2254\n",
       "user                                0\n",
       "geo                              2331\n",
       "coordinates                      2331\n",
       "place                            2330\n",
       "contributors                     2331\n",
       "is_quote_status                     0\n",
       "retweet_count                       0\n",
       "favorite_count                      0\n",
       "favorited                           0\n",
       "retweeted                           0\n",
       "possibly_sensitive                135\n",
       "possibly_sensitive_appealable     135\n",
       "lang                                0\n",
       "retweeted_status                 2168\n",
       "quoted_status_id                 2305\n",
       "quoted_status_id_str             2305\n",
       "quoted_status_permalink          2305\n",
       "quoted_status                    2307\n",
       "dtype: int64"
      ]
     },
     "execution_count": 30,
     "metadata": {},
     "output_type": "execute_result"
    }
   ],
   "source": [
    "df_tweet_json_old.isnull().sum()"
   ]
  },
  {
   "cell_type": "code",
   "execution_count": 31,
   "metadata": {},
   "outputs": [
    {
     "data": {
      "text/plain": [
       "10102"
      ]
     },
     "execution_count": 31,
     "metadata": {},
     "output_type": "execute_result"
    }
   ],
   "source": [
    "df_dog_breeds_old.duplicated(['breed']).sum()"
   ]
  },
  {
   "cell_type": "code",
   "execution_count": 32,
   "metadata": {},
   "outputs": [
    {
     "data": {
      "text/plain": [
       "id       0\n",
       "breed    0\n",
       "dtype: int64"
      ]
     },
     "execution_count": 32,
     "metadata": {},
     "output_type": "execute_result"
    }
   ],
   "source": [
    "df_dog_breeds_old.isnull().sum()"
   ]
  },
  {
   "cell_type": "markdown",
   "metadata": {},
   "source": [
    "<a id='cleaning'></a>\n",
    "# III. Cleaning Data \n",
    "---"
   ]
  },
  {
   "cell_type": "code",
   "execution_count": 33,
   "metadata": {},
   "outputs": [],
   "source": [
    "df_wrd_twitter = df_wrd_twitter_old.copy()"
   ]
  },
  {
   "cell_type": "code",
   "execution_count": 34,
   "metadata": {},
   "outputs": [],
   "source": [
    "df_image_predictions = df_image_predictions_old.copy()"
   ]
  },
  {
   "cell_type": "code",
   "execution_count": 35,
   "metadata": {},
   "outputs": [],
   "source": [
    "df_tweet_json = df_tweet_json_old.copy()"
   ]
  },
  {
   "cell_type": "code",
   "execution_count": 36,
   "metadata": {},
   "outputs": [],
   "source": [
    "df_dog_breeds = df_dog_breeds_old.copy()"
   ]
  },
  {
   "cell_type": "markdown",
   "metadata": {},
   "source": [
    "---\n",
    "---\n",
    "---"
   ]
  },
  {
   "cell_type": "markdown",
   "metadata": {},
   "source": [
    "> Filter out retweets by removing the ones with retweeted_status_id"
   ]
  },
  {
   "cell_type": "code",
   "execution_count": 37,
   "metadata": {},
   "outputs": [],
   "source": [
    "indices_with_retweets = df_wrd_twitter[df_wrd_twitter['retweeted_status_id'].notnull()].index\n",
    "\n",
    "df_wrd_twitter.drop(indices_with_retweets, inplace=True)"
   ]
  },
  {
   "cell_type": "code",
   "execution_count": 38,
   "metadata": {},
   "outputs": [
    {
     "data": {
      "text/plain": [
       "array([nan])"
      ]
     },
     "execution_count": 38,
     "metadata": {},
     "output_type": "execute_result"
    }
   ],
   "source": [
    "df_wrd_twitter['retweeted_status_id'].unique()"
   ]
  },
  {
   "cell_type": "markdown",
   "metadata": {},
   "source": [
    "> Remove rows with inaccurate ratings\n",
    "> * Get all texts where denominator and numerator are wrong\n",
    "> * Get all rows in the dataframe by matching texts\n",
    "> * Remove these rows in the dataframe by indices"
   ]
  },
  {
   "cell_type": "code",
   "execution_count": 39,
   "metadata": {},
   "outputs": [
    {
     "data": {
      "text/plain": [
       "8"
      ]
     },
     "execution_count": 39,
     "metadata": {},
     "output_type": "execute_result"
    }
   ],
   "source": [
    "text_to_remove = []\n",
    "\n",
    "for text, denominator, numerator in zip(\n",
    "    df_wrd_twitter['text'].values, \n",
    "    df_wrd_twitter['rating_denominator'].values, \n",
    "    df_wrd_twitter['rating_numerator'].values):\n",
    "    \n",
    "    result = p.search(text)\n",
    "    \n",
    "    if result is not None and denominator != 10:\n",
    "        text_to_remove.append(text)\n",
    "    elif text.find('24/7') != -1 or text.find('11/15/15') != -1:\n",
    "        text_to_remove.append(text)\n",
    "        \n",
    "len(text_to_remove)"
   ]
  },
  {
   "cell_type": "code",
   "execution_count": 40,
   "metadata": {},
   "outputs": [],
   "source": [
    "indices_with_wrong_ratings = df_wrd_twitter[df_wrd_twitter.text.isin(text_to_remove)].index\n",
    "\n",
    "df_wrd_twitter.drop(indices_with_wrong_ratings, inplace=True)"
   ]
  },
  {
   "cell_type": "code",
   "execution_count": 41,
   "metadata": {},
   "outputs": [
    {
     "data": {
      "text/plain": [
       "0"
      ]
     },
     "execution_count": 41,
     "metadata": {},
     "output_type": "execute_result"
    }
   ],
   "source": [
    "text_to_remove = []\n",
    "\n",
    "for text, denominator, numerator in zip(\n",
    "    df_wrd_twitter['text'].values, \n",
    "    df_wrd_twitter['rating_denominator'].values, \n",
    "    df_wrd_twitter['rating_numerator'].values):\n",
    "    \n",
    "    result = p.search(text)\n",
    "    \n",
    "    if result is not None and denominator != 10:\n",
    "        text_to_remove.append(text)\n",
    "    elif text.find('24/7') != -1 or text.find('11/15/15') != -1:\n",
    "        text_to_remove.append(text)\n",
    "        \n",
    "len(text_to_remove)"
   ]
  },
  {
   "cell_type": "markdown",
   "metadata": {},
   "source": [
    "> "
   ]
  }
 ],
 "metadata": {
  "kernelspec": {
   "display_name": "Python 3",
   "language": "python",
   "name": "python3"
  },
  "language_info": {
   "codemirror_mode": {
    "name": "ipython",
    "version": 3
   },
   "file_extension": ".py",
   "mimetype": "text/x-python",
   "name": "python",
   "nbconvert_exporter": "python",
   "pygments_lexer": "ipython3",
   "version": "3.6.10"
  }
 },
 "nbformat": 4,
 "nbformat_minor": 4
}
